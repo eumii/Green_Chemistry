{
 "cells": [
  {
   "cell_type": "code",
   "execution_count": 181,
   "metadata": {},
   "outputs": [],
   "source": [
    "import pandas as pd  \n",
    "import numpy as np  \n",
    "import warnings\n",
    "warnings.filterwarnings('ignore')\n",
    "import matplotlib.pyplot as plt\n",
    "import seaborn as sns"
   ]
  },
  {
   "cell_type": "code",
   "execution_count": 182,
   "metadata": {},
   "outputs": [
    {
     "data": {
      "text/html": [
       "<div>\n",
       "<style scoped>\n",
       "    .dataframe tbody tr th:only-of-type {\n",
       "        vertical-align: middle;\n",
       "    }\n",
       "\n",
       "    .dataframe tbody tr th {\n",
       "        vertical-align: top;\n",
       "    }\n",
       "\n",
       "    .dataframe thead th {\n",
       "        text-align: right;\n",
       "    }\n",
       "</style>\n",
       "<table border=\"1\" class=\"dataframe\">\n",
       "  <thead>\n",
       "    <tr style=\"text-align: right;\">\n",
       "      <th></th>\n",
       "      <th>name</th>\n",
       "      <th>cas</th>\n",
       "      <th>melting_points</th>\n",
       "      <th>boiling_points</th>\n",
       "      <th>Waste</th>\n",
       "      <th>environement</th>\n",
       "      <th>Health</th>\n",
       "      <th>stability</th>\n",
       "      <th>reactivity</th>\n",
       "      <th>lifecycle</th>\n",
       "      <th>Legislation\\rFlag</th>\n",
       "      <th>EHSFLAG</th>\n",
       "    </tr>\n",
       "  </thead>\n",
       "  <tbody>\n",
       "    <tr>\n",
       "      <th>0</th>\n",
       "      <td>water</td>\n",
       "      <td>7732-18-5</td>\n",
       "      <td>0</td>\n",
       "      <td>100</td>\n",
       "      <td>4</td>\n",
       "      <td>10</td>\n",
       "      <td>10</td>\n",
       "      <td>10</td>\n",
       "      <td>10</td>\n",
       "      <td>10</td>\n",
       "      <td>0</td>\n",
       "      <td>0</td>\n",
       "    </tr>\n",
       "    <tr>\n",
       "      <th>1</th>\n",
       "      <td>2-ethyl hexanol</td>\n",
       "      <td>104-76-7</td>\n",
       "      <td>-76</td>\n",
       "      <td>185</td>\n",
       "      <td>9</td>\n",
       "      <td>5</td>\n",
       "      <td>6</td>\n",
       "      <td>9</td>\n",
       "      <td>10</td>\n",
       "      <td>6</td>\n",
       "      <td>0</td>\n",
       "      <td>0</td>\n",
       "    </tr>\n",
       "    <tr>\n",
       "      <th>2</th>\n",
       "      <td>glycerol</td>\n",
       "      <td>56-81-5</td>\n",
       "      <td>18</td>\n",
       "      <td>290</td>\n",
       "      <td>6</td>\n",
       "      <td>7</td>\n",
       "      <td>8</td>\n",
       "      <td>10</td>\n",
       "      <td>9</td>\n",
       "      <td>8</td>\n",
       "      <td>0</td>\n",
       "      <td>0</td>\n",
       "    </tr>\n",
       "    <tr>\n",
       "      <th>3</th>\n",
       "      <td>cyclohexanol</td>\n",
       "      <td>108-93-0</td>\n",
       "      <td>25</td>\n",
       "      <td>161</td>\n",
       "      <td>6</td>\n",
       "      <td>6</td>\n",
       "      <td>7</td>\n",
       "      <td>9</td>\n",
       "      <td>9</td>\n",
       "      <td>8</td>\n",
       "      <td>0</td>\n",
       "      <td>0</td>\n",
       "    </tr>\n",
       "    <tr>\n",
       "      <th>4</th>\n",
       "      <td>ethylene glycol</td>\n",
       "      <td>107-21-1</td>\n",
       "      <td>-13</td>\n",
       "      <td>197</td>\n",
       "      <td>5</td>\n",
       "      <td>8</td>\n",
       "      <td>7</td>\n",
       "      <td>10</td>\n",
       "      <td>9</td>\n",
       "      <td>9</td>\n",
       "      <td>0</td>\n",
       "      <td>0</td>\n",
       "    </tr>\n",
       "    <tr>\n",
       "      <th>...</th>\n",
       "      <td>...</td>\n",
       "      <td>...</td>\n",
       "      <td>...</td>\n",
       "      <td>...</td>\n",
       "      <td>...</td>\n",
       "      <td>...</td>\n",
       "      <td>...</td>\n",
       "      <td>...</td>\n",
       "      <td>...</td>\n",
       "      <td>...</td>\n",
       "      <td>...</td>\n",
       "      <td>...</td>\n",
       "    </tr>\n",
       "    <tr>\n",
       "      <th>105</th>\n",
       "      <td>2,2,2-trifluoroethanol</td>\n",
       "      <td>75-89-8</td>\n",
       "      <td>-43</td>\n",
       "      <td>74</td>\n",
       "      <td>3</td>\n",
       "      <td>5</td>\n",
       "      <td>2</td>\n",
       "      <td>6</td>\n",
       "      <td>9</td>\n",
       "      <td>7</td>\n",
       "      <td>0</td>\n",
       "      <td>r</td>\n",
       "    </tr>\n",
       "    <tr>\n",
       "      <th>106</th>\n",
       "      <td>n,n-dimethylaniline</td>\n",
       "      <td>121-69-7</td>\n",
       "      <td>3</td>\n",
       "      <td>194</td>\n",
       "      <td>7</td>\n",
       "      <td>5</td>\n",
       "      <td>4</td>\n",
       "      <td>8</td>\n",
       "      <td>8</td>\n",
       "      <td>3</td>\n",
       "      <td>2</td>\n",
       "      <td>r</td>\n",
       "    </tr>\n",
       "    <tr>\n",
       "      <th>107</th>\n",
       "      <td>triethylamine</td>\n",
       "      <td>121-44-8</td>\n",
       "      <td>-115</td>\n",
       "      <td>89</td>\n",
       "      <td>4</td>\n",
       "      <td>5</td>\n",
       "      <td>3</td>\n",
       "      <td>4</td>\n",
       "      <td>8</td>\n",
       "      <td>7</td>\n",
       "      <td>0</td>\n",
       "      <td>r</td>\n",
       "    </tr>\n",
       "    <tr>\n",
       "      <th>108</th>\n",
       "      <td>pyridine</td>\n",
       "      <td>110-86-1</td>\n",
       "      <td>-42</td>\n",
       "      <td>115</td>\n",
       "      <td>3</td>\n",
       "      <td>4</td>\n",
       "      <td>4</td>\n",
       "      <td>7</td>\n",
       "      <td>9</td>\n",
       "      <td>2</td>\n",
       "      <td>2</td>\n",
       "      <td>r</td>\n",
       "    </tr>\n",
       "    <tr>\n",
       "      <th>109</th>\n",
       "      <td>nitromethane</td>\n",
       "      <td>75-52-5</td>\n",
       "      <td>-29</td>\n",
       "      <td>101</td>\n",
       "      <td>3</td>\n",
       "      <td>8</td>\n",
       "      <td>4</td>\n",
       "      <td>7</td>\n",
       "      <td>2</td>\n",
       "      <td>8</td>\n",
       "      <td>2</td>\n",
       "      <td>r</td>\n",
       "    </tr>\n",
       "  </tbody>\n",
       "</table>\n",
       "<p>110 rows × 12 columns</p>\n",
       "</div>"
      ],
      "text/plain": [
       "                       name        cas  melting_points  boiling_points  Waste  \\\n",
       "0                     water  7732-18-5               0             100      4   \n",
       "1           2-ethyl hexanol   104-76-7             -76             185      9   \n",
       "2                  glycerol    56-81-5              18             290      6   \n",
       "3              cyclohexanol   108-93-0              25             161      6   \n",
       "4           ethylene glycol   107-21-1             -13             197      5   \n",
       "..                      ...        ...             ...             ...    ...   \n",
       "105  2,2,2-trifluoroethanol    75-89-8             -43              74      3   \n",
       "106     n,n-dimethylaniline   121-69-7               3             194      7   \n",
       "107           triethylamine   121-44-8            -115              89      4   \n",
       "108                pyridine   110-86-1             -42             115      3   \n",
       "109            nitromethane    75-52-5             -29             101      3   \n",
       "\n",
       "     environement  Health  stability  reactivity  lifecycle  \\\n",
       "0              10      10         10          10         10   \n",
       "1               5       6          9          10          6   \n",
       "2               7       8         10           9          8   \n",
       "3               6       7          9           9          8   \n",
       "4               8       7         10           9          9   \n",
       "..            ...     ...        ...         ...        ...   \n",
       "105             5       2          6           9          7   \n",
       "106             5       4          8           8          3   \n",
       "107             5       3          4           8          7   \n",
       "108             4       4          7           9          2   \n",
       "109             8       4          7           2          8   \n",
       "\n",
       "     Legislation\\rFlag EHSFLAG  \n",
       "0                    0       0  \n",
       "1                    0       0  \n",
       "2                    0       0  \n",
       "3                    0       0  \n",
       "4                    0       0  \n",
       "..                 ...     ...  \n",
       "105                  0       r  \n",
       "106                  2       r  \n",
       "107                  0       r  \n",
       "108                  2       r  \n",
       "109                  2       r  \n",
       "\n",
       "[110 rows x 12 columns]"
      ]
     },
     "execution_count": 182,
     "metadata": {},
     "output_type": "execute_result"
    }
   ],
   "source": [
    "data = pd.read_csv('solvs_clean.csv')\n",
    "data"
   ]
  },
  {
   "cell_type": "code",
   "execution_count": 183,
   "metadata": {},
   "outputs": [
    {
     "data": {
      "text/plain": [
       "name                 object\n",
       "cas                  object\n",
       "melting_points        int64\n",
       "boiling_points        int64\n",
       "Waste                 int64\n",
       "environement          int64\n",
       "Health                int64\n",
       "stability             int64\n",
       "reactivity            int64\n",
       "lifecycle             int64\n",
       "Legislation\\rFlag     int64\n",
       "EHSFLAG              object\n",
       "dtype: object"
      ]
     },
     "execution_count": 183,
     "metadata": {},
     "output_type": "execute_result"
    }
   ],
   "source": [
    "data.dtypes"
   ]
  },
  {
   "cell_type": "code",
   "execution_count": 184,
   "metadata": {},
   "outputs": [],
   "source": [
    "def fe8 (x:str):\n",
    "    x = x.replace(\" \",\"_\")\n",
    "    x = x.replace(\"/\", \"_\")\n",
    "    x = x.replace('\\ ', '_')\n",
    "    return x.lower()\n",
    "\n",
    "data.columns = list(map(fe8, data.columns))"
   ]
  },
  {
   "attachments": {},
   "cell_type": "markdown",
   "metadata": {},
   "source": [
    "Checking for nan values"
   ]
  },
  {
   "cell_type": "code",
   "execution_count": 185,
   "metadata": {},
   "outputs": [
    {
     "data": {
      "text/plain": [
       "name                 0\n",
       "cas                  0\n",
       "melting_points       0\n",
       "boiling_points       0\n",
       "waste                0\n",
       "environement         0\n",
       "health               0\n",
       "stability            0\n",
       "reactivity           0\n",
       "lifecycle            0\n",
       "legislation\\rflag    0\n",
       "ehsflag              0\n",
       "dtype: int64"
      ]
     },
     "execution_count": 185,
     "metadata": {},
     "output_type": "execute_result"
    }
   ],
   "source": [
    "data.isna().sum()"
   ]
  },
  {
   "attachments": {},
   "cell_type": "markdown",
   "metadata": {},
   "source": [
    "dropping cas columns because it is just the ID of the product, it won't affect our model in any way "
   ]
  },
  {
   "cell_type": "code",
   "execution_count": 186,
   "metadata": {},
   "outputs": [
    {
     "data": {
      "text/html": [
       "<div>\n",
       "<style scoped>\n",
       "    .dataframe tbody tr th:only-of-type {\n",
       "        vertical-align: middle;\n",
       "    }\n",
       "\n",
       "    .dataframe tbody tr th {\n",
       "        vertical-align: top;\n",
       "    }\n",
       "\n",
       "    .dataframe thead th {\n",
       "        text-align: right;\n",
       "    }\n",
       "</style>\n",
       "<table border=\"1\" class=\"dataframe\">\n",
       "  <thead>\n",
       "    <tr style=\"text-align: right;\">\n",
       "      <th></th>\n",
       "      <th>melting_points</th>\n",
       "      <th>boiling_points</th>\n",
       "      <th>waste</th>\n",
       "      <th>environement</th>\n",
       "      <th>health</th>\n",
       "      <th>stability</th>\n",
       "      <th>reactivity</th>\n",
       "      <th>lifecycle</th>\n",
       "      <th>legislation</th>\n",
       "      <th>ehsflag</th>\n",
       "    </tr>\n",
       "  </thead>\n",
       "  <tbody>\n",
       "    <tr>\n",
       "      <th>0</th>\n",
       "      <td>0</td>\n",
       "      <td>100</td>\n",
       "      <td>4</td>\n",
       "      <td>10</td>\n",
       "      <td>10</td>\n",
       "      <td>10</td>\n",
       "      <td>10</td>\n",
       "      <td>10</td>\n",
       "      <td>0</td>\n",
       "      <td>0</td>\n",
       "    </tr>\n",
       "    <tr>\n",
       "      <th>1</th>\n",
       "      <td>-76</td>\n",
       "      <td>185</td>\n",
       "      <td>9</td>\n",
       "      <td>5</td>\n",
       "      <td>6</td>\n",
       "      <td>9</td>\n",
       "      <td>10</td>\n",
       "      <td>6</td>\n",
       "      <td>0</td>\n",
       "      <td>0</td>\n",
       "    </tr>\n",
       "    <tr>\n",
       "      <th>2</th>\n",
       "      <td>18</td>\n",
       "      <td>290</td>\n",
       "      <td>6</td>\n",
       "      <td>7</td>\n",
       "      <td>8</td>\n",
       "      <td>10</td>\n",
       "      <td>9</td>\n",
       "      <td>8</td>\n",
       "      <td>0</td>\n",
       "      <td>0</td>\n",
       "    </tr>\n",
       "    <tr>\n",
       "      <th>3</th>\n",
       "      <td>25</td>\n",
       "      <td>161</td>\n",
       "      <td>6</td>\n",
       "      <td>6</td>\n",
       "      <td>7</td>\n",
       "      <td>9</td>\n",
       "      <td>9</td>\n",
       "      <td>8</td>\n",
       "      <td>0</td>\n",
       "      <td>0</td>\n",
       "    </tr>\n",
       "    <tr>\n",
       "      <th>4</th>\n",
       "      <td>-13</td>\n",
       "      <td>197</td>\n",
       "      <td>5</td>\n",
       "      <td>8</td>\n",
       "      <td>7</td>\n",
       "      <td>10</td>\n",
       "      <td>9</td>\n",
       "      <td>9</td>\n",
       "      <td>0</td>\n",
       "      <td>0</td>\n",
       "    </tr>\n",
       "    <tr>\n",
       "      <th>...</th>\n",
       "      <td>...</td>\n",
       "      <td>...</td>\n",
       "      <td>...</td>\n",
       "      <td>...</td>\n",
       "      <td>...</td>\n",
       "      <td>...</td>\n",
       "      <td>...</td>\n",
       "      <td>...</td>\n",
       "      <td>...</td>\n",
       "      <td>...</td>\n",
       "    </tr>\n",
       "    <tr>\n",
       "      <th>105</th>\n",
       "      <td>-43</td>\n",
       "      <td>74</td>\n",
       "      <td>3</td>\n",
       "      <td>5</td>\n",
       "      <td>2</td>\n",
       "      <td>6</td>\n",
       "      <td>9</td>\n",
       "      <td>7</td>\n",
       "      <td>0</td>\n",
       "      <td>r</td>\n",
       "    </tr>\n",
       "    <tr>\n",
       "      <th>106</th>\n",
       "      <td>3</td>\n",
       "      <td>194</td>\n",
       "      <td>7</td>\n",
       "      <td>5</td>\n",
       "      <td>4</td>\n",
       "      <td>8</td>\n",
       "      <td>8</td>\n",
       "      <td>3</td>\n",
       "      <td>2</td>\n",
       "      <td>r</td>\n",
       "    </tr>\n",
       "    <tr>\n",
       "      <th>107</th>\n",
       "      <td>-115</td>\n",
       "      <td>89</td>\n",
       "      <td>4</td>\n",
       "      <td>5</td>\n",
       "      <td>3</td>\n",
       "      <td>4</td>\n",
       "      <td>8</td>\n",
       "      <td>7</td>\n",
       "      <td>0</td>\n",
       "      <td>r</td>\n",
       "    </tr>\n",
       "    <tr>\n",
       "      <th>108</th>\n",
       "      <td>-42</td>\n",
       "      <td>115</td>\n",
       "      <td>3</td>\n",
       "      <td>4</td>\n",
       "      <td>4</td>\n",
       "      <td>7</td>\n",
       "      <td>9</td>\n",
       "      <td>2</td>\n",
       "      <td>2</td>\n",
       "      <td>r</td>\n",
       "    </tr>\n",
       "    <tr>\n",
       "      <th>109</th>\n",
       "      <td>-29</td>\n",
       "      <td>101</td>\n",
       "      <td>3</td>\n",
       "      <td>8</td>\n",
       "      <td>4</td>\n",
       "      <td>7</td>\n",
       "      <td>2</td>\n",
       "      <td>8</td>\n",
       "      <td>2</td>\n",
       "      <td>r</td>\n",
       "    </tr>\n",
       "  </tbody>\n",
       "</table>\n",
       "<p>110 rows × 10 columns</p>\n",
       "</div>"
      ],
      "text/plain": [
       "     melting_points  boiling_points  waste  environement  health  stability  \\\n",
       "0                 0             100      4            10      10         10   \n",
       "1               -76             185      9             5       6          9   \n",
       "2                18             290      6             7       8         10   \n",
       "3                25             161      6             6       7          9   \n",
       "4               -13             197      5             8       7         10   \n",
       "..              ...             ...    ...           ...     ...        ...   \n",
       "105             -43              74      3             5       2          6   \n",
       "106               3             194      7             5       4          8   \n",
       "107            -115              89      4             5       3          4   \n",
       "108             -42             115      3             4       4          7   \n",
       "109             -29             101      3             8       4          7   \n",
       "\n",
       "     reactivity  lifecycle  legislation ehsflag  \n",
       "0            10         10            0       0  \n",
       "1            10          6            0       0  \n",
       "2             9          8            0       0  \n",
       "3             9          8            0       0  \n",
       "4             9          9            0       0  \n",
       "..          ...        ...          ...     ...  \n",
       "105           9          7            0       r  \n",
       "106           8          3            2       r  \n",
       "107           8          7            0       r  \n",
       "108           9          2            2       r  \n",
       "109           2          8            2       r  \n",
       "\n",
       "[110 rows x 10 columns]"
      ]
     },
     "execution_count": 186,
     "metadata": {},
     "output_type": "execute_result"
    }
   ],
   "source": [
    "data_clean = data.drop(['cas', 'name'], axis = 1)\n",
    "\n",
    "data_clean.rename(columns= {'legislation\\rflag': 'legislation'}, inplace =True)\n",
    "data_clean"
   ]
  },
  {
   "cell_type": "code",
   "execution_count": 187,
   "metadata": {},
   "outputs": [],
   "source": [
    "data_clean['ehsflag'].replace({'r':'1'}, inplace= True)"
   ]
  },
  {
   "cell_type": "code",
   "execution_count": 189,
   "metadata": {},
   "outputs": [
    {
     "data": {
      "text/html": [
       "<div>\n",
       "<style scoped>\n",
       "    .dataframe tbody tr th:only-of-type {\n",
       "        vertical-align: middle;\n",
       "    }\n",
       "\n",
       "    .dataframe tbody tr th {\n",
       "        vertical-align: top;\n",
       "    }\n",
       "\n",
       "    .dataframe thead th {\n",
       "        text-align: right;\n",
       "    }\n",
       "</style>\n",
       "<table border=\"1\" class=\"dataframe\">\n",
       "  <thead>\n",
       "    <tr style=\"text-align: right;\">\n",
       "      <th></th>\n",
       "      <th>melting_points</th>\n",
       "      <th>boiling_points</th>\n",
       "      <th>waste</th>\n",
       "      <th>environement</th>\n",
       "      <th>health</th>\n",
       "      <th>stability</th>\n",
       "      <th>reactivity</th>\n",
       "      <th>lifecycle</th>\n",
       "      <th>legislation</th>\n",
       "      <th>ehsflag</th>\n",
       "    </tr>\n",
       "  </thead>\n",
       "  <tbody>\n",
       "    <tr>\n",
       "      <th>0</th>\n",
       "      <td>0</td>\n",
       "      <td>100</td>\n",
       "      <td>4</td>\n",
       "      <td>10</td>\n",
       "      <td>10</td>\n",
       "      <td>10</td>\n",
       "      <td>10</td>\n",
       "      <td>10</td>\n",
       "      <td>0</td>\n",
       "      <td>0</td>\n",
       "    </tr>\n",
       "    <tr>\n",
       "      <th>1</th>\n",
       "      <td>-76</td>\n",
       "      <td>185</td>\n",
       "      <td>9</td>\n",
       "      <td>5</td>\n",
       "      <td>6</td>\n",
       "      <td>9</td>\n",
       "      <td>10</td>\n",
       "      <td>6</td>\n",
       "      <td>0</td>\n",
       "      <td>0</td>\n",
       "    </tr>\n",
       "    <tr>\n",
       "      <th>2</th>\n",
       "      <td>18</td>\n",
       "      <td>290</td>\n",
       "      <td>6</td>\n",
       "      <td>7</td>\n",
       "      <td>8</td>\n",
       "      <td>10</td>\n",
       "      <td>9</td>\n",
       "      <td>8</td>\n",
       "      <td>0</td>\n",
       "      <td>0</td>\n",
       "    </tr>\n",
       "    <tr>\n",
       "      <th>3</th>\n",
       "      <td>25</td>\n",
       "      <td>161</td>\n",
       "      <td>6</td>\n",
       "      <td>6</td>\n",
       "      <td>7</td>\n",
       "      <td>9</td>\n",
       "      <td>9</td>\n",
       "      <td>8</td>\n",
       "      <td>0</td>\n",
       "      <td>0</td>\n",
       "    </tr>\n",
       "    <tr>\n",
       "      <th>4</th>\n",
       "      <td>-13</td>\n",
       "      <td>197</td>\n",
       "      <td>5</td>\n",
       "      <td>8</td>\n",
       "      <td>7</td>\n",
       "      <td>10</td>\n",
       "      <td>9</td>\n",
       "      <td>9</td>\n",
       "      <td>0</td>\n",
       "      <td>0</td>\n",
       "    </tr>\n",
       "    <tr>\n",
       "      <th>...</th>\n",
       "      <td>...</td>\n",
       "      <td>...</td>\n",
       "      <td>...</td>\n",
       "      <td>...</td>\n",
       "      <td>...</td>\n",
       "      <td>...</td>\n",
       "      <td>...</td>\n",
       "      <td>...</td>\n",
       "      <td>...</td>\n",
       "      <td>...</td>\n",
       "    </tr>\n",
       "    <tr>\n",
       "      <th>105</th>\n",
       "      <td>-43</td>\n",
       "      <td>74</td>\n",
       "      <td>3</td>\n",
       "      <td>5</td>\n",
       "      <td>2</td>\n",
       "      <td>6</td>\n",
       "      <td>9</td>\n",
       "      <td>7</td>\n",
       "      <td>0</td>\n",
       "      <td>1</td>\n",
       "    </tr>\n",
       "    <tr>\n",
       "      <th>106</th>\n",
       "      <td>3</td>\n",
       "      <td>194</td>\n",
       "      <td>7</td>\n",
       "      <td>5</td>\n",
       "      <td>4</td>\n",
       "      <td>8</td>\n",
       "      <td>8</td>\n",
       "      <td>3</td>\n",
       "      <td>2</td>\n",
       "      <td>1</td>\n",
       "    </tr>\n",
       "    <tr>\n",
       "      <th>107</th>\n",
       "      <td>-115</td>\n",
       "      <td>89</td>\n",
       "      <td>4</td>\n",
       "      <td>5</td>\n",
       "      <td>3</td>\n",
       "      <td>4</td>\n",
       "      <td>8</td>\n",
       "      <td>7</td>\n",
       "      <td>0</td>\n",
       "      <td>1</td>\n",
       "    </tr>\n",
       "    <tr>\n",
       "      <th>108</th>\n",
       "      <td>-42</td>\n",
       "      <td>115</td>\n",
       "      <td>3</td>\n",
       "      <td>4</td>\n",
       "      <td>4</td>\n",
       "      <td>7</td>\n",
       "      <td>9</td>\n",
       "      <td>2</td>\n",
       "      <td>2</td>\n",
       "      <td>1</td>\n",
       "    </tr>\n",
       "    <tr>\n",
       "      <th>109</th>\n",
       "      <td>-29</td>\n",
       "      <td>101</td>\n",
       "      <td>3</td>\n",
       "      <td>8</td>\n",
       "      <td>4</td>\n",
       "      <td>7</td>\n",
       "      <td>2</td>\n",
       "      <td>8</td>\n",
       "      <td>2</td>\n",
       "      <td>1</td>\n",
       "    </tr>\n",
       "  </tbody>\n",
       "</table>\n",
       "<p>110 rows × 10 columns</p>\n",
       "</div>"
      ],
      "text/plain": [
       "     melting_points  boiling_points  waste  environement  health  stability  \\\n",
       "0                 0             100      4            10      10         10   \n",
       "1               -76             185      9             5       6          9   \n",
       "2                18             290      6             7       8         10   \n",
       "3                25             161      6             6       7          9   \n",
       "4               -13             197      5             8       7         10   \n",
       "..              ...             ...    ...           ...     ...        ...   \n",
       "105             -43              74      3             5       2          6   \n",
       "106               3             194      7             5       4          8   \n",
       "107            -115              89      4             5       3          4   \n",
       "108             -42             115      3             4       4          7   \n",
       "109             -29             101      3             8       4          7   \n",
       "\n",
       "     reactivity  lifecycle  legislation ehsflag  \n",
       "0            10         10            0       0  \n",
       "1            10          6            0       0  \n",
       "2             9          8            0       0  \n",
       "3             9          8            0       0  \n",
       "4             9          9            0       0  \n",
       "..          ...        ...          ...     ...  \n",
       "105           9          7            0       1  \n",
       "106           8          3            2       1  \n",
       "107           8          7            0       1  \n",
       "108           9          2            2       1  \n",
       "109           2          8            2       1  \n",
       "\n",
       "[110 rows x 10 columns]"
      ]
     },
     "execution_count": 189,
     "metadata": {},
     "output_type": "execute_result"
    }
   ],
   "source": [
    "data_clean"
   ]
  },
  {
   "attachments": {},
   "cell_type": "markdown",
   "metadata": {},
   "source": [
    "Selecting the features and their types"
   ]
  },
  {
   "cell_type": "code",
   "execution_count": 190,
   "metadata": {},
   "outputs": [
    {
     "data": {
      "text/plain": [
       "melting_points     int64\n",
       "boiling_points     int64\n",
       "waste              int64\n",
       "environement       int64\n",
       "health             int64\n",
       "stability          int64\n",
       "reactivity         int64\n",
       "lifecycle          int64\n",
       "legislation        int64\n",
       "ehsflag           object\n",
       "dtype: object"
      ]
     },
     "execution_count": 190,
     "metadata": {},
     "output_type": "execute_result"
    }
   ],
   "source": [
    "data_clean.dtypes"
   ]
  },
  {
   "cell_type": "code",
   "execution_count": 191,
   "metadata": {},
   "outputs": [
    {
     "name": "stdout",
     "output_type": "stream",
     "text": [
      "melting_points    float64\n",
      "boiling_points    float64\n",
      "waste              object\n",
      "environement       object\n",
      "health             object\n",
      "stability          object\n",
      "reactivity         object\n",
      "lifecycle          object\n",
      "legislation        object\n",
      "ehsflag             int32\n",
      "dtype: object\n"
     ]
    }
   ],
   "source": [
    "# using dictionary to convert specific columns\n",
    "convert_dict = {'waste': object,\n",
    "                'environement': object,\n",
    "                'health': object,\n",
    "                'stability': object,\n",
    "                'reactivity': object,\n",
    "                'lifecycle': object,          \n",
    "                'legislation': object,\n",
    "                'melting_points': float,\n",
    "                'boiling_points' : float,\n",
    "                'ehsflag': int\n",
    "                }\n",
    " \n",
    "data_clean = data_clean.astype(convert_dict)\n",
    "print(data_clean.dtypes)"
   ]
  },
  {
   "attachments": {},
   "cell_type": "markdown",
   "metadata": {},
   "source": [
    "splitting numericals and categoricals"
   ]
  },
  {
   "cell_type": "code",
   "execution_count": 192,
   "metadata": {},
   "outputs": [],
   "source": [
    "nums = data_clean.select_dtypes(np.number)\n",
    "cats = data_clean.select_dtypes(object)"
   ]
  },
  {
   "attachments": {},
   "cell_type": "markdown",
   "metadata": {},
   "source": [
    "## EDA "
   ]
  },
  {
   "cell_type": "code",
   "execution_count": 193,
   "metadata": {},
   "outputs": [
    {
     "data": {
      "image/png": "[encoded data removed]",
      "text/plain": [
       "<Figure size 500x500 with 1 Axes>"
      ]
     },
     "metadata": {},
     "output_type": "display_data"
    },
    {
     "data": {
      "image/png": "[encoded data removed]",
      "text/plain": [
       "<Figure size 500x500 with 1 Axes>"
      ]
     },
     "metadata": {},
     "output_type": "display_data"
    },
    {
     "data": {
      "image/png": "[encoded data removed]",
      "text/plain": [
       "<Figure size 500x500 with 1 Axes>"
      ]
     },
     "metadata": {},
     "output_type": "display_data"
    }
   ],
   "source": [
    "for col in nums.columns:\n",
    "    sns.displot(nums[col], bins=25, kde = True)\n",
    "    plt.show()\n"
   ]
  },
  {
   "cell_type": "code",
   "execution_count": 194,
   "metadata": {},
   "outputs": [
    {
     "data": {
      "image/png": "[encoded data removed]",
      "text/plain": [
       "<Figure size 750x750 with 12 Axes>"
      ]
     },
     "metadata": {},
     "output_type": "display_data"
    }
   ],
   "source": [
    "sns.pairplot(nums)\n",
    "plt.show()\n",
    "# we can infer a correlation between boiling points and melting points, but it is not relevant in chemical terms"
   ]
  },
  {
   "cell_type": "code",
   "execution_count": 195,
   "metadata": {},
   "outputs": [
    {
     "data": {
      "image/png": "[encoded data removed]",
      "text/plain": [
       "<Figure size 640x480 with 1 Axes>"
      ]
     },
     "metadata": {},
     "output_type": "display_data"
    }
   ],
   "source": [
    "# checking for outliers in nums\n",
    "nums.boxplot()\n",
    "plt.show()"
   ]
  },
  {
   "cell_type": "code",
   "execution_count": 196,
   "metadata": {},
   "outputs": [
    {
     "data": {
      "image/png": "[encoded data removed]",
      "text/plain": [
       "<Figure size 640x480 with 1 Axes>"
      ]
     },
     "metadata": {},
     "output_type": "display_data"
    },
    {
     "data": {
      "image/png": "[encoded data removed]",
      "text/plain": [
       "<Figure size 640x480 with 1 Axes>"
      ]
     },
     "metadata": {},
     "output_type": "display_data"
    },
    {
     "data": {
      "image/png": "[encoded data removed]",
      "text/plain": [
       "<Figure size 640x480 with 1 Axes>"
      ]
     },
     "metadata": {},
     "output_type": "display_data"
    },
    {
     "data": {
      "image/png": "[encoded data removed]",
      "text/plain": [
       "<Figure size 640x480 with 1 Axes>"
      ]
     },
     "metadata": {},
     "output_type": "display_data"
    },
    {
     "data": {
      "image/png": "[encoded data removed]",
      "text/plain": [
       "<Figure size 640x480 with 1 Axes>"
      ]
     },
     "metadata": {},
     "output_type": "display_data"
    },
    {
     "data": {
      "image/png": "[encoded data removed]",
      "text/plain": [
       "<Figure size 640x480 with 1 Axes>"
      ]
     },
     "metadata": {},
     "output_type": "display_data"
    },
    {
     "data": {
      "image/png": "[encoded data removed]",
      "text/plain": [
       "<Figure size 640x480 with 1 Axes>"
      ]
     },
     "metadata": {},
     "output_type": "display_data"
    }
   ],
   "source": [
    "for col in cats.columns:\n",
    "    sns.countplot(cats[col])\n",
    "    plt.show()"
   ]
  },
  {
   "attachments": {},
   "cell_type": "markdown",
   "metadata": {},
   "source": [
    "Checking the heat map for multicolineatity"
   ]
  },
  {
   "cell_type": "code",
   "execution_count": 197,
   "metadata": {},
   "outputs": [
    {
     "data": {
      "image/png": "[encoded data removed]",
      "text/plain": [
       "<Figure size 1000x800 with 2 Axes>"
      ]
     },
     "metadata": {},
     "output_type": "display_data"
    }
   ],
   "source": [
    "corr_matrix = data_clean.corr(method= 'pearson')\n",
    "fig, ax = plt.subplots(figsize = (10,8))\n",
    "ax = sns.heatmap(corr_matrix, annot= True, cmap = sns.color_palette(\"vlag\", as_cmap = True), linewidth = 1, mask = (np.abs(corr_matrix) <= 0.02))\n",
    "plt.title('Heatmap')\n",
    "plt.show()"
   ]
  },
  {
   "cell_type": "code",
   "execution_count": 198,
   "metadata": {},
   "outputs": [
    {
     "data": {
      "text/html": [
       "<div>\n",
       "<style scoped>\n",
       "    .dataframe tbody tr th:only-of-type {\n",
       "        vertical-align: middle;\n",
       "    }\n",
       "\n",
       "    .dataframe tbody tr th {\n",
       "        vertical-align: top;\n",
       "    }\n",
       "\n",
       "    .dataframe thead th {\n",
       "        text-align: right;\n",
       "    }\n",
       "</style>\n",
       "<table border=\"1\" class=\"dataframe\">\n",
       "  <thead>\n",
       "    <tr style=\"text-align: right;\">\n",
       "      <th></th>\n",
       "      <th>melting_points</th>\n",
       "      <th>boiling_points</th>\n",
       "      <th>ehsflag</th>\n",
       "    </tr>\n",
       "  </thead>\n",
       "  <tbody>\n",
       "    <tr>\n",
       "      <th>melting_points</th>\n",
       "      <td>1.000000</td>\n",
       "      <td>0.575328</td>\n",
       "      <td>-0.059380</td>\n",
       "    </tr>\n",
       "    <tr>\n",
       "      <th>boiling_points</th>\n",
       "      <td>0.575328</td>\n",
       "      <td>1.000000</td>\n",
       "      <td>-0.269864</td>\n",
       "    </tr>\n",
       "    <tr>\n",
       "      <th>ehsflag</th>\n",
       "      <td>-0.059380</td>\n",
       "      <td>-0.269864</td>\n",
       "      <td>1.000000</td>\n",
       "    </tr>\n",
       "  </tbody>\n",
       "</table>\n",
       "</div>"
      ],
      "text/plain": [
       "                melting_points  boiling_points   ehsflag\n",
       "melting_points        1.000000        0.575328 -0.059380\n",
       "boiling_points        0.575328        1.000000 -0.269864\n",
       "ehsflag              -0.059380       -0.269864  1.000000"
      ]
     },
     "execution_count": 198,
     "metadata": {},
     "output_type": "execute_result"
    }
   ],
   "source": [
    "corr_matrix"
   ]
  },
  {
   "attachments": {},
   "cell_type": "markdown",
   "metadata": {},
   "source": [
    "### splitting the data"
   ]
  },
  {
   "cell_type": "code",
   "execution_count": 199,
   "metadata": {},
   "outputs": [],
   "source": [
    "from sklearn.model_selection import train_test_split\n",
    "\n",
    "X = (data_clean.drop(['ehsflag'], axis = 1))\n",
    "y = (data_clean['ehsflag'])"
   ]
  },
  {
   "cell_type": "code",
   "execution_count": 200,
   "metadata": {},
   "outputs": [],
   "source": [
    "X_train, X_test, y_train, y_test = train_test_split(X, y, test_size = 0.2, random_state = 88)"
   ]
  },
  {
   "cell_type": "code",
   "execution_count": 201,
   "metadata": {},
   "outputs": [],
   "source": [
    "X_train_cat = X_train.select_dtypes(include = object)\n",
    "X_train_num =X_train.select_dtypes(include = np.number)\n",
    "X_test_cat = X_test.select_dtypes(include = object)\n",
    "X_test_num =X_test.select_dtypes(include = np.number)"
   ]
  },
  {
   "attachments": {},
   "cell_type": "markdown",
   "metadata": {},
   "source": [
    "## Scalling data"
   ]
  },
  {
   "attachments": {},
   "cell_type": "markdown",
   "metadata": {},
   "source": [
    "categoricals will be encoded in ordinal, the order matters here"
   ]
  },
  {
   "cell_type": "code",
   "execution_count": 202,
   "metadata": {},
   "outputs": [],
   "source": [
    "# categoricals\n",
    "from sklearn.preprocessing import OneHotEncoder\n",
    "from sklearn.preprocessing import OrdinalEncoder"
   ]
  },
  {
   "cell_type": "code",
   "execution_count": 203,
   "metadata": {},
   "outputs": [
    {
     "data": {
      "text/html": [
       "<div>\n",
       "<style scoped>\n",
       "    .dataframe tbody tr th:only-of-type {\n",
       "        vertical-align: middle;\n",
       "    }\n",
       "\n",
       "    .dataframe tbody tr th {\n",
       "        vertical-align: top;\n",
       "    }\n",
       "\n",
       "    .dataframe thead th {\n",
       "        text-align: right;\n",
       "    }\n",
       "</style>\n",
       "<table border=\"1\" class=\"dataframe\">\n",
       "  <thead>\n",
       "    <tr style=\"text-align: right;\">\n",
       "      <th></th>\n",
       "      <th>waste</th>\n",
       "      <th>environement</th>\n",
       "      <th>health</th>\n",
       "      <th>stability</th>\n",
       "      <th>reactivity</th>\n",
       "      <th>lifecycle</th>\n",
       "      <th>legislation</th>\n",
       "    </tr>\n",
       "  </thead>\n",
       "  <tbody>\n",
       "    <tr>\n",
       "      <th>0</th>\n",
       "      <td>4.0</td>\n",
       "      <td>6.0</td>\n",
       "      <td>5.0</td>\n",
       "      <td>9.0</td>\n",
       "      <td>7.0</td>\n",
       "      <td>6.0</td>\n",
       "      <td>0.0</td>\n",
       "    </tr>\n",
       "    <tr>\n",
       "      <th>1</th>\n",
       "      <td>2.0</td>\n",
       "      <td>4.0</td>\n",
       "      <td>7.0</td>\n",
       "      <td>6.0</td>\n",
       "      <td>7.0</td>\n",
       "      <td>5.0</td>\n",
       "      <td>0.0</td>\n",
       "    </tr>\n",
       "    <tr>\n",
       "      <th>2</th>\n",
       "      <td>3.0</td>\n",
       "      <td>4.0</td>\n",
       "      <td>7.0</td>\n",
       "      <td>1.0</td>\n",
       "      <td>8.0</td>\n",
       "      <td>6.0</td>\n",
       "      <td>0.0</td>\n",
       "    </tr>\n",
       "    <tr>\n",
       "      <th>3</th>\n",
       "      <td>2.0</td>\n",
       "      <td>2.0</td>\n",
       "      <td>1.0</td>\n",
       "      <td>5.0</td>\n",
       "      <td>8.0</td>\n",
       "      <td>6.0</td>\n",
       "      <td>1.0</td>\n",
       "    </tr>\n",
       "    <tr>\n",
       "      <th>4</th>\n",
       "      <td>4.0</td>\n",
       "      <td>6.0</td>\n",
       "      <td>5.0</td>\n",
       "      <td>7.0</td>\n",
       "      <td>7.0</td>\n",
       "      <td>5.0</td>\n",
       "      <td>0.0</td>\n",
       "    </tr>\n",
       "    <tr>\n",
       "      <th>...</th>\n",
       "      <td>...</td>\n",
       "      <td>...</td>\n",
       "      <td>...</td>\n",
       "      <td>...</td>\n",
       "      <td>...</td>\n",
       "      <td>...</td>\n",
       "      <td>...</td>\n",
       "    </tr>\n",
       "    <tr>\n",
       "      <th>83</th>\n",
       "      <td>7.0</td>\n",
       "      <td>3.0</td>\n",
       "      <td>4.0</td>\n",
       "      <td>7.0</td>\n",
       "      <td>8.0</td>\n",
       "      <td>5.0</td>\n",
       "      <td>0.0</td>\n",
       "    </tr>\n",
       "    <tr>\n",
       "      <th>84</th>\n",
       "      <td>6.0</td>\n",
       "      <td>0.0</td>\n",
       "      <td>8.0</td>\n",
       "      <td>5.0</td>\n",
       "      <td>8.0</td>\n",
       "      <td>3.0</td>\n",
       "      <td>2.0</td>\n",
       "    </tr>\n",
       "    <tr>\n",
       "      <th>85</th>\n",
       "      <td>5.0</td>\n",
       "      <td>5.0</td>\n",
       "      <td>3.0</td>\n",
       "      <td>8.0</td>\n",
       "      <td>5.0</td>\n",
       "      <td>2.0</td>\n",
       "      <td>3.0</td>\n",
       "    </tr>\n",
       "    <tr>\n",
       "      <th>86</th>\n",
       "      <td>2.0</td>\n",
       "      <td>4.0</td>\n",
       "      <td>4.0</td>\n",
       "      <td>3.0</td>\n",
       "      <td>7.0</td>\n",
       "      <td>7.0</td>\n",
       "      <td>0.0</td>\n",
       "    </tr>\n",
       "    <tr>\n",
       "      <th>87</th>\n",
       "      <td>5.0</td>\n",
       "      <td>2.0</td>\n",
       "      <td>5.0</td>\n",
       "      <td>9.0</td>\n",
       "      <td>7.0</td>\n",
       "      <td>7.0</td>\n",
       "      <td>0.0</td>\n",
       "    </tr>\n",
       "  </tbody>\n",
       "</table>\n",
       "<p>88 rows × 7 columns</p>\n",
       "</div>"
      ],
      "text/plain": [
       "    waste  environement  health  stability  reactivity  lifecycle  legislation\n",
       "0     4.0           6.0     5.0        9.0         7.0        6.0          0.0\n",
       "1     2.0           4.0     7.0        6.0         7.0        5.0          0.0\n",
       "2     3.0           4.0     7.0        1.0         8.0        6.0          0.0\n",
       "3     2.0           2.0     1.0        5.0         8.0        6.0          1.0\n",
       "4     4.0           6.0     5.0        7.0         7.0        5.0          0.0\n",
       "..    ...           ...     ...        ...         ...        ...          ...\n",
       "83    7.0           3.0     4.0        7.0         8.0        5.0          0.0\n",
       "84    6.0           0.0     8.0        5.0         8.0        3.0          2.0\n",
       "85    5.0           5.0     3.0        8.0         5.0        2.0          3.0\n",
       "86    2.0           4.0     4.0        3.0         7.0        7.0          0.0\n",
       "87    5.0           2.0     5.0        9.0         7.0        7.0          0.0\n",
       "\n",
       "[88 rows x 7 columns]"
      ]
     },
     "metadata": {},
     "output_type": "display_data"
    },
    {
     "name": "stdout",
     "output_type": "stream",
     "text": [
      "******************************************************************************************************************************************************\n"
     ]
    }
   ],
   "source": [
    "enc= OrdinalEncoder(handle_unknown='error')\n",
    "encoder = enc.fit(X_train_cat)\n",
    "\n",
    "X_train_ordinal_encoded = encoder.transform(X_train_cat)\n",
    "\n",
    "\n",
    "X_train_ordinal_encoded_df = pd.DataFrame(X_train_ordinal_encoded, columns = X_train_cat.columns)\n",
    "display(X_train_ordinal_encoded_df)\n",
    "print('*'*150)\n"
   ]
  },
  {
   "cell_type": "code",
   "execution_count": 204,
   "metadata": {},
   "outputs": [],
   "source": [
    "X_test_ordinal_encoded = encoder.transform(X_test_cat)\n",
    "X_test_ordinal_encoded_df = pd.DataFrame(X_test_ordinal_encoded, columns = X_test_cat.columns)\n",
    "# X_test_ordinal_encoded_df"
   ]
  },
  {
   "cell_type": "code",
   "execution_count": 205,
   "metadata": {},
   "outputs": [],
   "source": [
    "from sklearn.preprocessing import MinMaxScaler\n",
    "from sklearn.preprocessing import StandardScaler"
   ]
  },
  {
   "cell_type": "code",
   "execution_count": 206,
   "metadata": {},
   "outputs": [],
   "source": [
    "#numericals\n",
    "scaler = MinMaxScaler()\n",
    "X_train_numerical_min_scaled = scaler.fit_transform(X_train_num)\n",
    "X_train_numericals_min_scaled_df =pd.DataFrame(X_train_numerical_min_scaled, columns = X_train_num.columns)\n",
    "# X_train_numericals_min_scaled_df"
   ]
  },
  {
   "cell_type": "code",
   "execution_count": 207,
   "metadata": {},
   "outputs": [],
   "source": [
    "X_test_numerical_min_scaled = scaler.transform(X_test_num)\n",
    "X_test_numericals_min_scaled_df =pd.DataFrame(X_test_numerical_min_scaled, columns = X_test_num.columns)\n",
    "# X_test_numericals_min_scaled_df"
   ]
  },
  {
   "cell_type": "code",
   "execution_count": 208,
   "metadata": {},
   "outputs": [],
   "source": [
    "# merging train and test\n",
    "X_train = pd.concat([X_train_numericals_min_scaled_df, X_train_ordinal_encoded_df], axis =1)\n",
    "X_test = pd.concat([X_test_numericals_min_scaled_df, X_test_ordinal_encoded_df], axis =1)\n",
    "\n",
    "# data_scaled = pd.concat([numericals_min_scaled_df, ordinal_encoded_df], axis = 1)"
   ]
  },
  {
   "attachments": {},
   "cell_type": "markdown",
   "metadata": {},
   "source": [
    "librairies"
   ]
  },
  {
   "cell_type": "code",
   "execution_count": 209,
   "metadata": {},
   "outputs": [],
   "source": [
    "from sklearn.tree import DecisionTreeClassifier\n",
    "from sklearn.linear_model import LogisticRegression\n",
    "from sklearn.ensemble import RandomForestClassifier\n",
    "from sklearn.neighbors import KNeighborsClassifier\n",
    "from sklearn.neural_network import MLPClassifier\n",
    "\n",
    "from sklearn.metrics import accuracy_score\n",
    "from sklearn.metrics import precision_score\n",
    "from sklearn.metrics import recall_score\n",
    "from sklearn.metrics import f1_score\n",
    "\n",
    "from sklearn.metrics import confusion_matrix\n",
    "from sklearn.model_selection import cross_val_score\n",
    "from sklearn.model_selection import cross_validate\n",
    "\n",
    "from sklearn.metrics import mean_squared_error as mse"
   ]
  },
  {
   "attachments": {},
   "cell_type": "markdown",
   "metadata": {},
   "source": [
    "pipepline"
   ]
  },
  {
   "cell_type": "code",
   "execution_count": 210,
   "metadata": {},
   "outputs": [
    {
     "name": "stdout",
     "output_type": "stream",
     "text": [
      "{'Logistic regression': 0.8375, 'Decision tree': 0.8388888888888889, 'randomforest': 0.8736111111111111, 'kneighbors': 0.7805555555555556}\n"
     ]
    }
   ],
   "source": [
    "model_pipeline = [LogisticRegression(), DecisionTreeClassifier(), RandomForestClassifier(), KNeighborsClassifier()]\n",
    "model_names = ['Logistic regression', 'Decision tree', 'randomforest', 'kneighbors']\n",
    "scores_pipe_classif= {}\n",
    "\n",
    "for model, model_name in zip(model_pipeline, model_names):\n",
    "    mean_score = np.mean(cross_val_score(model, X_train, y_train, cv = 10))\n",
    "    scores_pipe_classif[model_name] = mean_score\n",
    "print(scores_pipe_classif)"
   ]
  },
  {
   "attachments": {},
   "cell_type": "markdown",
   "metadata": {},
   "source": [
    "## Treating the imbalance in the data"
   ]
  },
  {
   "attachments": {},
   "cell_type": "markdown",
   "metadata": {},
   "source": [
    "SMOTE"
   ]
  },
  {
   "cell_type": "code",
   "execution_count": 211,
   "metadata": {},
   "outputs": [],
   "source": [
    "from imblearn.over_sampling import SMOTE"
   ]
  },
  {
   "cell_type": "code",
   "execution_count": 212,
   "metadata": {},
   "outputs": [],
   "source": [
    "def smoting(training_x, training_y):\n",
    "\n",
    "    smote = SMOTE(random_state = 100, k_neighbors = 3)\n",
    "    X_train_scaled_SMOTE, y_train_SMOTE = smote.fit_resample(training_x, training_y)\n",
    "\n",
    "    return X_train_scaled_SMOTE, y_train_SMOTE    \n",
    "\n",
    "X_train_SMOTE, y_train_SMOTE = smoting(X_train, y_train)\n",
    "X_test_SMOTE, y_test_SMOTE = smoting(X_test, y_test)"
   ]
  },
  {
   "cell_type": "code",
   "execution_count": 213,
   "metadata": {},
   "outputs": [
    {
     "name": "stdout",
     "output_type": "stream",
     "text": [
      "Score of trainSet =  0.953125\n",
      "Score of testSet =  0.9230769230769231\n"
     ]
    }
   ],
   "source": [
    "# looking at the random classifier hypertuned\n",
    "randoclf = RandomForestClassifier(max_depth = 6,  \n",
    "                             min_samples_split = 5,  \n",
    "                             min_samples_leaf = 10,\n",
    "                             n_estimators = 800,\n",
    "                             max_features = 'sqrt', \n",
    "                             bootstrap= False,\n",
    "                             random_state = 88)\n",
    "\n",
    "randoclf.fit(X_train_SMOTE, y_train_SMOTE)\n",
    "\n",
    "print('Score of trainSet = ', randoclf.score(X_train_SMOTE, y_train_SMOTE))\n",
    "print('Score of testSet = ', randoclf.score(X_test_SMOTE, y_test_SMOTE))"
   ]
  },
  {
   "cell_type": "code",
   "execution_count": 214,
   "metadata": {},
   "outputs": [],
   "source": [
    "# Define function to run all models\n",
    "def models_functions(models, X_train, y_train, X_test, y_test):\n",
    "    for model in models:\n",
    "        model.fit(X_train, y_train)\n",
    "\n",
    "        train_mse = mse(model.predict(X_train), y_train)\n",
    "        test_mse = mse(model.predict(X_test), y_test)\n",
    "\n",
    "        print(f\"{model.__class__.__name__}:\\n   Train = {model.score(X_train, y_train)}, \\n   Test = {model.score(X_test, y_test)}, \\n   RMSE for the Test = { test_mse**.5}\")"
   ]
  },
  {
   "cell_type": "code",
   "execution_count": 215,
   "metadata": {},
   "outputs": [
    {
     "name": "stdout",
     "output_type": "stream",
     "text": [
      "LogisticRegression:\n",
      "   Train = 0.90625, \n",
      "   Test = 0.8461538461538461, \n",
      "   RMSE for the Test = 0.3922322702763681\n",
      "KNeighborsClassifier:\n",
      "   Train = 0.90625, \n",
      "   Test = 0.9230769230769231, \n",
      "   RMSE for the Test = 0.2773500981126146\n",
      "MLPClassifier:\n",
      "   Train = 0.90625, \n",
      "   Test = 0.9230769230769231, \n",
      "   RMSE for the Test = 0.2773500981126146\n",
      "DecisionTreeClassifier:\n",
      "   Train = 1.0, \n",
      "   Test = 0.8076923076923077, \n",
      "   RMSE for the Test = 0.4385290096535146\n",
      "RandomForestClassifier:\n",
      "   Train = 1.0, \n",
      "   Test = 0.8846153846153846, \n",
      "   RMSE for the Test = 0.3396831102433787\n"
     ]
    }
   ],
   "source": [
    "models = [LogisticRegression(),KNeighborsClassifier(), MLPClassifier(),DecisionTreeClassifier(),RandomForestClassifier()]\n",
    "models_functions(models, X_train_SMOTE, y_train_SMOTE, X_test_SMOTE, y_test_SMOTE)"
   ]
  },
  {
   "attachments": {},
   "cell_type": "markdown",
   "metadata": {},
   "source": [
    "score of the random classifier SMOTE\n"
   ]
  },
  {
   "cell_type": "code",
   "execution_count": 225,
   "metadata": {},
   "outputs": [
    {
     "name": "stdout",
     "output_type": "stream",
     "text": [
      "accuracy_smote: 0.9230769230769231\n",
      "precision_smote:  0.8461538461538461\n",
      "recall_smote:  1.0\n",
      "f1_smote:  0.9166666666666666\n",
      "******************************************************************************************************************************************************\n",
      "accuracy: 0.9090909090909091\n",
      "precision:  0.7777777777777778\n",
      "recall:  1.0\n",
      "f1:  0.8750000000000001\n"
     ]
    }
   ],
   "source": [
    "preds_random_forest = randoclf.predict(X_test_SMOTE)\n",
    "preds_random_forest_nosmote = randoclf.predict(X_test)\n",
    "\n",
    "print('accuracy_smote:', accuracy_score(y_test_SMOTE, preds_random_forest))\n",
    "print('precision_smote: ', precision_score(preds_random_forest, y_test_SMOTE))\n",
    "print(\"recall_smote: \", recall_score(preds_random_forest, y_test_SMOTE))\n",
    "print(\"f1_smote: \", f1_score( preds_random_forest, y_test_SMOTE))\n",
    "print('*' *150)\n",
    "\n",
    "print('accuracy:', accuracy_score(y_test, preds_random_forest_nosmote))\n",
    "print('precision: ', precision_score(preds_random_forest_nosmote, y_test))\n",
    "print(\"recall: \", recall_score(preds_random_forest_nosmote, y_test))\n",
    "print(\"f1: \", f1_score( preds_random_forest_nosmote, y_test))"
   ]
  },
  {
   "attachments": {},
   "cell_type": "markdown",
   "metadata": {},
   "source": [
    "/w smote"
   ]
  },
  {
   "attachments": {},
   "cell_type": "markdown",
   "metadata": {},
   "source": [
    "Confusion metrics"
   ]
  },
  {
   "cell_type": "code",
   "execution_count": 227,
   "metadata": {},
   "outputs": [
    {
     "data": {
      "image/png": "[encoded data removed]",
      "text/plain": [
       "<Figure size 640x480 with 2 Axes>"
      ]
     },
     "metadata": {},
     "output_type": "display_data"
    }
   ],
   "source": [
    "from sklearn.metrics import ConfusionMatrixDisplay\n",
    "from sklearn import metrics\n",
    "\n",
    "confusion_matrix = metrics.confusion_matrix(y_test_SMOTE, preds_random_forest)\n",
    "cm_display = metrics.ConfusionMatrixDisplay(confusion_matrix = confusion_matrix, display_labels = [False, True])\n",
    "cm_display.plot(cmap = plt.cm.Greens)\n",
    "plt.title('Confusion matrix of the classifier')\n",
    "plt.xlabel('Predicted')\n",
    "plt.ylabel('Actual')\n",
    "plt.savefig('confusion_matrix.jpg')\n",
    "plt.show()"
   ]
  },
  {
   "attachments": {},
   "cell_type": "markdown",
   "metadata": {},
   "source": [
    "Treating the imbalance data with SMOTE helped us improve our accuracy !\n",
    "\n",
    "We manage to predict with 93 % accuracy the solvents who are going to be classified as toxic and harmfull for the environement and the humans.\n",
    "\n",
    "In our prediction we manage to minimise our false negative , and in the long run it will have an impact on our health and environment.\n",
    "\n",
    "Despite the 1.0 recall, witch is commun for our small dataset, we manage to build a classifier thaht will be implemented with more data and more refining (e.g grid or random search)\n"
   ]
  },
  {
   "attachments": {},
   "cell_type": "markdown",
   "metadata": {},
   "source": [
    "## TAbleau datasets"
   ]
  },
  {
   "cell_type": "code",
   "execution_count": 218,
   "metadata": {},
   "outputs": [],
   "source": [
    "# nums.to_csv('numericals_tableau.csv',index= False)\n",
    "# cats.to_csv('categoricals_tableau.csv', index = False)\n",
    "# data_clean.to_csv('full_tableau.csv', index =False)"
   ]
  }
 ],
 "metadata": {
  "kernelspec": {
   "display_name": "base",
   "language": "python",
   "name": "python3"
  },
  "language_info": {
   "codemirror_mode": {
    "name": "ipython",
    "version": 3
   },
   "file_extension": ".py",
   "mimetype": "text/x-python",
   "name": "python",
   "nbconvert_exporter": "python",
   "pygments_lexer": "ipython3",
   "version": "3.9.13"
  },
  "orig_nbformat": 4,
  "vscode": {
   "interpreter": {
    "hash": "3b3bd93e6e993b5a0362fec8f7339ef1ba3066e57f882c75a84b879c84a67f0f"
   }
  }
 },
 "nbformat": 4,
 "nbformat_minor": 2
}
